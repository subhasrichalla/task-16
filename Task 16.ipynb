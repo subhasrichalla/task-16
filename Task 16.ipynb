{
 "cells": [
  {
   "cell_type": "markdown",
   "id": "e6243386",
   "metadata": {},
   "source": [
    "## Task 1:\n",
    "\n",
    "Load the file 'about_python.txt'into your jupyter notebook. a. Correct wrong statements about python fatures b. How many charactaers present in the data c. How many times 'Python' word is repeated. d. after correcting all ..print complete valid features of the python.\n",
    "Task2:\n",
    "\n",
    "Create a file 'File.txt'which expalains python file handling whatever you have learnt today(creating,reading,wring and appending...etc) in detail.That reaload the saved file(i.e File.txt) to jupyter notebook."
   ]
  },
  {
   "cell_type": "code",
   "execution_count": 6,
   "id": "b30bb71e",
   "metadata": {},
   "outputs": [],
   "source": [
    "file = open(\"C:\\\\Users\\\\subha\\\\OneDrive\\\\Desktop\\\\about_python.txt.txt\",'r')"
   ]
  },
  {
   "cell_type": "code",
   "execution_count": 7,
   "id": "615d88db",
   "metadata": {},
   "outputs": [],
   "source": [
    "string = file.read()"
   ]
  },
  {
   "cell_type": "code",
   "execution_count": 8,
   "id": "fbc5d166",
   "metadata": {},
   "outputs": [],
   "source": [
    "new1 = string.replace(\"compiled\",\"interpreted\")"
   ]
  },
  {
   "cell_type": "code",
   "execution_count": 9,
   "id": "132b9b77",
   "metadata": {},
   "outputs": [],
   "source": [
    "new2 = new1.replace(\"paid\",\"unpaid\")\n",
    "new3 = new2.replace(\"statically\",\"dynamic\")\n",
    "new4 = new3.replace(\"double\",\"single and double\")\n",
    "new5 = new4.replace(\"web development\",\"web development, software development and web scraping\")\n",
    "new6 = new5.replace(\"Elon Musk\",\"Guido Van Rossum\")"
   ]
  },
  {
   "cell_type": "code",
   "execution_count": 10,
   "id": "53fd5681",
   "metadata": {},
   "outputs": [
    {
     "name": "stdout",
     "output_type": "stream",
     "text": [
      "Python supports object-oriented programming (OOP) concepts\n",
      "Python is a interpreted language\n",
      "Python has a rich ecosystem of third-party libraries\n",
      "Python is a not a paid programming language\n",
      "Python uses indentation for code block structuring\n",
      "Python is dynamic Typed Language\n",
      "Python supports single and double quotes for string literals.\n",
      "Python can be used for web development, software development, and web scraping.\n",
      "Python was created by Guido van Rossum.\n"
     ]
    }
   ],
   "source": [
    "print(string)"
   ]
  },
  {
   "cell_type": "code",
   "execution_count": 11,
   "id": "54375ff6",
   "metadata": {},
   "outputs": [],
   "source": [
    "file.close()"
   ]
  },
  {
   "cell_type": "code",
   "execution_count": 12,
   "id": "9c24a723",
   "metadata": {},
   "outputs": [
    {
     "data": {
      "text/plain": [
       "454"
      ]
     },
     "execution_count": 12,
     "metadata": {},
     "output_type": "execute_result"
    }
   ],
   "source": [
    "len(string)"
   ]
  },
  {
   "cell_type": "code",
   "execution_count": 14,
   "id": "3a2ea5a5",
   "metadata": {},
   "outputs": [
    {
     "data": {
      "text/plain": [
       "9"
      ]
     },
     "execution_count": 14,
     "metadata": {},
     "output_type": "execute_result"
    }
   ],
   "source": [
    "string.count(\"Python\")"
   ]
  },
  {
   "cell_type": "markdown",
   "id": "cfaca631",
   "metadata": {},
   "source": [
    "## Task2:\n",
    "\n",
    "Create a file 'File.txt'which expalains python handling whatever you have learnt today(creating,reading,wring and appending...etc) in detail.That reaload the saved file(i.e File.txt) to jupyter notebook."
   ]
  },
  {
   "cell_type": "code",
   "execution_count": 22,
   "id": "1b9271d4",
   "metadata": {},
   "outputs": [],
   "source": [
    "f = open(\"File.txt\",'w')"
   ]
  },
  {
   "cell_type": "code",
   "execution_count": 23,
   "id": "017710b9",
   "metadata": {},
   "outputs": [
    {
     "data": {
      "text/plain": [
       "448"
      ]
     },
     "execution_count": 23,
     "metadata": {},
     "output_type": "execute_result"
    }
   ],
   "source": [
    "f.write(\"File Handling\\nFile handling enables us to store the data in file not only store the data we can create,read, write and append the data.\\nIn create we can create the file if there is already an existing file then throws an error.\\nIn read Its only reads the data which is present in the file.\\nIn write we can only write the data into the file. After writing the data is mandetory to close\\nIn append we can add the data to the existing data in the file\")\n"
   ]
  },
  {
   "cell_type": "code",
   "execution_count": 24,
   "id": "96730490",
   "metadata": {},
   "outputs": [],
   "source": [
    "f.close()"
   ]
  },
  {
   "cell_type": "code",
   "execution_count": 25,
   "id": "be8f2899",
   "metadata": {},
   "outputs": [],
   "source": [
    "f= open(\"File.txt\",'r')"
   ]
  },
  {
   "cell_type": "code",
   "execution_count": 26,
   "id": "e97383c2",
   "metadata": {},
   "outputs": [],
   "source": [
    "str1 = f.read()"
   ]
  },
  {
   "cell_type": "code",
   "execution_count": 27,
   "id": "994772e1",
   "metadata": {},
   "outputs": [
    {
     "name": "stdout",
     "output_type": "stream",
     "text": [
      "File Handling\n",
      "File handling enables us to store the data in file not only store the data we can create,read, write and append the data.\n",
      "In create we can create the file if there is already an existing file then throws an error.\n",
      "In read Its only reads the data which is present in the file.\n",
      "In write we can only write the data into the file. After writing the data is mandetory to close\n",
      "In append we can add the data to the existing data in the file\n"
     ]
    }
   ],
   "source": [
    "print(str1)"
   ]
  },
  {
   "cell_type": "code",
   "execution_count": null,
   "id": "98c9f188",
   "metadata": {},
   "outputs": [],
   "source": []
  }
 ],
 "metadata": {
  "kernelspec": {
   "display_name": "Python 3 (ipykernel)",
   "language": "python",
   "name": "python3"
  },
  "language_info": {
   "codemirror_mode": {
    "name": "ipython",
    "version": 3
   },
   "file_extension": ".py",
   "mimetype": "text/x-python",
   "name": "python",
   "nbconvert_exporter": "python",
   "pygments_lexer": "ipython3",
   "version": "3.11.4"
  }
 },
 "nbformat": 4,
 "nbformat_minor": 5
}
